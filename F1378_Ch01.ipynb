{
  "nbformat": 4,
  "nbformat_minor": 0,
  "metadata": {
    "colab": {
      "name": "F1378 - Ch01.ipynb",
      "provenance": [],
      "collapsed_sections": [],
      "include_colab_link": true
    },
    "kernelspec": {
      "name": "python3",
      "display_name": "Python 3"
    }
  },
  "cells": [
    {
      "cell_type": "markdown",
      "metadata": {
        "id": "view-in-github",
        "colab_type": "text"
      },
      "source": [
        "<a href=\"https://colab.research.google.com/github/kchuang1015/GoogleColab/blob/master/F1378_Ch01.ipynb\" target=\"_parent\"><img src=\"https://colab.research.google.com/assets/colab-badge.svg\" alt=\"Open In Colab\"/></a>"
      ]
    },
    {
      "cell_type": "markdown",
      "metadata": {
        "id": "Y5g6RJRZq_wq"
      },
      "source": [
        "#1-1-1\t Hello World"
      ]
    },
    {
      "cell_type": "code",
      "metadata": {
        "colab": {
          "base_uri": "https://localhost:8080/",
          "height": 35
        },
        "id": "Gnso2EuAj2ZV",
        "outputId": "2339d364-ff83-40d1-c9c0-d237944dffde"
      },
      "source": [
        "'Hello World'"
      ],
      "execution_count": 15,
      "outputs": [
        {
          "output_type": "execute_result",
          "data": {
            "application/vnd.google.colaboratory.intrinsic+json": {
              "type": "string"
            },
            "text/plain": [
              "'Hello World'"
            ]
          },
          "metadata": {
            "tags": []
          },
          "execution_count": 15
        }
      ]
    },
    {
      "cell_type": "code",
      "metadata": {
        "colab": {
          "base_uri": "https://localhost:8080/"
        },
        "id": "fGevUkNzj6CJ",
        "outputId": "c33870b5-3b9f-4dce-c7f7-9e61f3f427c8"
      },
      "source": [
        "1+1"
      ],
      "execution_count": 16,
      "outputs": [
        {
          "output_type": "execute_result",
          "data": {
            "text/plain": [
              "2"
            ]
          },
          "metadata": {
            "tags": []
          },
          "execution_count": 16
        }
      ]
    },
    {
      "cell_type": "markdown",
      "metadata": {
        "id": "rnUeYlGUkAeQ"
      },
      "source": [
        "#1-1-2\t 輸出數值與文字"
      ]
    },
    {
      "cell_type": "code",
      "metadata": {
        "colab": {
          "base_uri": "https://localhost:8080/"
        },
        "id": "ZTUqE3NRkBFW",
        "outputId": "2b98dc8a-9991-4630-8b36-7725968b7335"
      },
      "source": [
        "print(42)"
      ],
      "execution_count": 17,
      "outputs": [
        {
          "output_type": "stream",
          "text": [
            "42\n"
          ],
          "name": "stdout"
        }
      ]
    },
    {
      "cell_type": "code",
      "metadata": {
        "colab": {
          "base_uri": "https://localhost:8080/"
        },
        "id": "9DnnDBthkCe1",
        "outputId": "e1b1af17-c920-40af-9aab-2bcd8e30d0ae"
      },
      "source": [
        "print(3 + 6)"
      ],
      "execution_count": 18,
      "outputs": [
        {
          "output_type": "stream",
          "text": [
            "9\n"
          ],
          "name": "stdout"
        }
      ]
    },
    {
      "cell_type": "markdown",
      "metadata": {
        "id": "D4JG1BsmkF8O"
      },
      "source": [
        "#1-1-3\t 算符與運算式"
      ]
    },
    {
      "cell_type": "code",
      "metadata": {
        "colab": {
          "base_uri": "https://localhost:8080/"
        },
        "id": "3QeXm1XYkEJ6",
        "outputId": "34391ab8-2886-4669-e8d2-1fb00430eb75"
      },
      "source": [
        "print(3 + 5)\n",
        "print(3 - 5)\n",
        "print(3 * 5)\n",
        "print(3 / 5)\n",
        "print(3 // 5)\n",
        "print(3 % 5)\n",
        "print(3 ** 5)\n",
        "print((3 + 5) * 3 + 5)"
      ],
      "execution_count": 19,
      "outputs": [
        {
          "output_type": "stream",
          "text": [
            "8\n",
            "-2\n",
            "15\n",
            "0.6\n",
            "0\n",
            "3\n",
            "243\n",
            "29\n"
          ],
          "name": "stdout"
        }
      ]
    },
    {
      "cell_type": "code",
      "metadata": {
        "colab": {
          "base_uri": "https://localhost:8080/"
        },
        "id": "UkEysROkkH8G",
        "outputId": "3e464bbe-1fdb-420f-8dfb-a5582dd4093b"
      },
      "source": [
        "print('3' + '5')\n",
        "print('3' * 5)"
      ],
      "execution_count": 20,
      "outputs": [
        {
          "output_type": "stream",
          "text": [
            "35\n",
            "33333\n"
          ],
          "name": "stdout"
        }
      ]
    },
    {
      "cell_type": "markdown",
      "metadata": {
        "id": "OSr6Hqz6kNgu"
      },
      "source": [
        "#1-2-1\t 宣告變數"
      ]
    },
    {
      "cell_type": "code",
      "metadata": {
        "colab": {
          "base_uri": "https://localhost:8080/"
        },
        "id": "Md_mcDAdkK2I",
        "outputId": "0b1c1ecd-80b5-428a-fc7f-2e759d36d041"
      },
      "source": [
        "n = '柴犬'\n",
        "print(n)"
      ],
      "execution_count": 21,
      "outputs": [
        {
          "output_type": "stream",
          "text": [
            "柴犬\n"
          ],
          "name": "stdout"
        }
      ]
    },
    {
      "cell_type": "markdown",
      "metadata": {
        "id": "3XIN-QvbkTmN"
      },
      "source": [
        "#1-2-2\t 更新變數的值"
      ]
    },
    {
      "cell_type": "code",
      "metadata": {
        "colab": {
          "base_uri": "https://localhost:8080/"
        },
        "id": "lpl_x3vakQ7W",
        "outputId": "52acc255-21dd-4b8c-d546-5f573cec94e6"
      },
      "source": [
        "x = 1 #建立變數名稱 x\n",
        "print(x)\n",
        "\n",
        "x = 5 #修改 x 的值\n",
        "print(x)\n",
        "\n",
        "x = x + 1 #修改 x 的值 (將 x 加 1)\n",
        "print(x)\n",
        "\n",
        "x += 1 #寫法等同於 x = x + 1\n",
        "print(x)"
      ],
      "execution_count": 22,
      "outputs": [
        {
          "output_type": "stream",
          "text": [
            "1\n",
            "5\n",
            "6\n",
            "7\n"
          ],
          "name": "stdout"
        }
      ]
    },
    {
      "cell_type": "markdown",
      "metadata": {
        "id": "jrvfSU82kcEh"
      },
      "source": [
        "#1-3-1\t Python 資料型別"
      ]
    },
    {
      "cell_type": "code",
      "metadata": {
        "colab": {
          "base_uri": "https://localhost:8080/"
        },
        "id": "H4HRDd9AkZPV",
        "outputId": "1716c59c-618a-4fc4-e919-26a5ff117f64"
      },
      "source": [
        "a = 42\n",
        "print(type(a)) #用print()將type()傳回的結果印出\n",
        "\n",
        "b = 3.14\n",
        "print(type(b))\n",
        "\n",
        "a = 'Hello World!'\n",
        "print(type(a))"
      ],
      "execution_count": 23,
      "outputs": [
        {
          "output_type": "stream",
          "text": [
            "<class 'int'>\n",
            "<class 'float'>\n",
            "<class 'str'>\n"
          ],
          "name": "stdout"
        }
      ]
    },
    {
      "cell_type": "markdown",
      "metadata": {
        "id": "LWtLbbUEkmof"
      },
      "source": [
        "#1-3-2\t 跨型別運算的問題"
      ]
    },
    {
      "cell_type": "code",
      "metadata": {
        "colab": {
          "base_uri": "https://localhost:8080/",
          "height": 35
        },
        "id": "wYB0mvsAkisV",
        "outputId": "8c84733a-08c1-4f55-ed74-d01aa7c8fa00"
      },
      "source": [
        "'3' * 5"
      ],
      "execution_count": 24,
      "outputs": [
        {
          "output_type": "execute_result",
          "data": {
            "application/vnd.google.colaboratory.intrinsic+json": {
              "type": "string"
            },
            "text/plain": [
              "'33333'"
            ]
          },
          "metadata": {
            "tags": []
          },
          "execution_count": 24
        }
      ]
    },
    {
      "cell_type": "code",
      "metadata": {
        "colab": {
          "base_uri": "https://localhost:8080/",
          "height": 163
        },
        "id": "OMf9L8lakoxp",
        "outputId": "6c4ce003-c008-4c5c-93d2-1dc0ea49383c"
      },
      "source": [
        "'3' + 5"
      ],
      "execution_count": 25,
      "outputs": [
        {
          "output_type": "error",
          "ename": "TypeError",
          "evalue": "ignored",
          "traceback": [
            "\u001b[0;31m---------------------------------------------------------------------------\u001b[0m",
            "\u001b[0;31mTypeError\u001b[0m                                 Traceback (most recent call last)",
            "\u001b[0;32m<ipython-input-25-7d561dfb4908>\u001b[0m in \u001b[0;36m<module>\u001b[0;34m()\u001b[0m\n\u001b[0;32m----> 1\u001b[0;31m \u001b[0;34m'3'\u001b[0m \u001b[0;34m+\u001b[0m \u001b[0;36m5\u001b[0m\u001b[0;34m\u001b[0m\u001b[0;34m\u001b[0m\u001b[0m\n\u001b[0m",
            "\u001b[0;31mTypeError\u001b[0m: can only concatenate str (not \"int\") to str"
          ]
        }
      ]
    },
    {
      "cell_type": "code",
      "metadata": {
        "id": "7x0yrvH9kqwm"
      },
      "source": [
        "3 + '5'"
      ],
      "execution_count": null,
      "outputs": []
    },
    {
      "cell_type": "markdown",
      "metadata": {
        "id": "2suGeWvykvrm"
      },
      "source": [
        "#1-3-3\t 型別轉換"
      ]
    },
    {
      "cell_type": "code",
      "metadata": {
        "id": "1h6Nwur2ktHW"
      },
      "source": [
        "print(int('3') + 5)\n",
        "print('3' + str(5))\n",
        "print(float(3) + 3)\n",
        "print(int(3.14) + 3)"
      ],
      "execution_count": null,
      "outputs": []
    },
    {
      "cell_type": "markdown",
      "metadata": {
        "id": "PCIcw2Bck0EI"
      },
      "source": [
        "#1-4 比較算符"
      ]
    },
    {
      "cell_type": "code",
      "metadata": {
        "id": "KFwkGpdzkxkG"
      },
      "source": [
        "print(1 + 1 != 3)\n",
        "print(4 + 6 == 10)\n",
        "\n",
        "x = 3\n",
        "y = 5\n",
        "\n",
        "print(x + y > 7)\n",
        "print(x * y <= 7)"
      ],
      "execution_count": null,
      "outputs": []
    },
    {
      "cell_type": "markdown",
      "metadata": {
        "id": "SNlXg3VtlQPZ"
      },
      "source": [
        "#1-5-1\t if 敘述"
      ]
    },
    {
      "cell_type": "code",
      "metadata": {
        "id": "qu3hE4Esk2wH"
      },
      "source": [
        "n = 15\n",
        "print('檢查數字...')\n",
        "if n >= 10: \n",
        "  print('數字超過門檻')"
      ],
      "execution_count": null,
      "outputs": []
    },
    {
      "cell_type": "markdown",
      "metadata": {
        "id": "56x-OIHnlYt4"
      },
      "source": [
        "#1-5-2\t if... else"
      ]
    },
    {
      "cell_type": "code",
      "metadata": {
        "id": "418jdivzlWkG"
      },
      "source": [
        "n = 9\n",
        "print('檢查數字...')\n",
        "if n >= 10:\n",
        "  print('數字超過門檻')\n",
        "else:\n",
        "  print('數字未達門檻')"
      ],
      "execution_count": null,
      "outputs": []
    },
    {
      "cell_type": "markdown",
      "metadata": {
        "id": "AoFz3X_WldBK"
      },
      "source": [
        "#1-5-3\t if... elif... else..."
      ]
    },
    {
      "cell_type": "code",
      "metadata": {
        "id": "qUFHaevwlbSX"
      },
      "source": [
        "n = 16\n",
        "if n >= 20:\n",
        "  print(n, '是很大的數字')\n",
        "elif n >= 15:     #n >= 15 但< 20時\n",
        "  print(n, '是中等的數字')\n",
        "elif n >= 10:     #n >= 10 但< 15時\n",
        "  print(n, '是普通的數字')\n",
        "else:           #n < 10 時\n",
        "  print(n, '是較小的數字')"
      ],
      "execution_count": null,
      "outputs": []
    },
    {
      "cell_type": "markdown",
      "metadata": {
        "id": "Y38Pbq6A2p7O"
      },
      "source": [
        "#1-5-4\t and、or、not"
      ]
    },
    {
      "cell_type": "code",
      "metadata": {
        "colab": {
          "base_uri": "https://localhost:8080/"
        },
        "id": "w6wfVWKf2rEm",
        "outputId": "e412da2e-370d-4d76-cf6d-8e4f630f0912"
      },
      "source": [
        "x = 14\n",
        "y = 28\n",
        "\n",
        "print(x > 8 and y < 14)\n",
        "print(x > 8 or y < 14)\n",
        "print(x > 8 and not y < 14)"
      ],
      "execution_count": 26,
      "outputs": [
        {
          "output_type": "stream",
          "text": [
            "False\n",
            "True\n",
            "True\n"
          ],
          "name": "stdout"
        }
      ]
    },
    {
      "cell_type": "code",
      "metadata": {
        "colab": {
          "base_uri": "https://localhost:8080/"
        },
        "id": "udpS2NJf2txY",
        "outputId": "0d83afb5-7c06-4be2-c35d-1e6e7447ed69"
      },
      "source": [
        "year = 2020\n",
        "\n",
        "if (year % 4 == 0 and year % 100 != 0) or year % 400 == 0:\n",
        "  print(year, '是閏年')\n",
        "else:\n",
        "  print(year, '是平年')"
      ],
      "execution_count": 27,
      "outputs": [
        {
          "output_type": "stream",
          "text": [
            "2020 是閏年\n"
          ],
          "name": "stdout"
        }
      ]
    }
  ]
}