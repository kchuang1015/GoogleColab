{
  "nbformat": 4,
  "nbformat_minor": 0,
  "metadata": {
    "colab": {
      "name": "BasicClassification.ipynb",
      "version": "0.3.2",
      "provenance": [],
      "collapsed_sections": [],
      "include_colab_link": true
    },
    "kernelspec": {
      "name": "python3",
      "display_name": "Python 3"
    },
    "accelerator": "GPU"
  },
  "cells": [
    {
      "cell_type": "markdown",
      "metadata": {
        "id": "view-in-github",
        "colab_type": "text"
      },
      "source": [
        "[View in Colaboratory](https://colab.research.google.com/github/kchuang1015/GoogleColab/blob/master/BasicClassification.ipynb)"
      ]
    },
    {
      "metadata": {
        "id": "mXmmL_jOgwM4",
        "colab_type": "text"
      },
      "cell_type": "markdown",
      "source": [
        "# Import"
      ]
    },
    {
      "metadata": {
        "id": "IXUSlU4Nqlg6",
        "colab_type": "code",
        "colab": {
          "base_uri": "https://localhost:8080/",
          "height": 34
        },
        "outputId": "5678682c-db8f-47e9-f804-f66c0e5fc0a9"
      },
      "cell_type": "code",
      "source": [
        "# TensorFlow and tf.keras\n",
        "import tensorflow as tf\n",
        "from tensorflow import keras\n",
        "\n",
        "# Helper libraries\n",
        "import numpy as np\n",
        "import matplotlib.pyplot as plt\n",
        "\n",
        "print(tf.__version__)"
      ],
      "execution_count": 1,
      "outputs": [
        {
          "output_type": "stream",
          "text": [
            "1.10.0\n"
          ],
          "name": "stdout"
        }
      ]
    },
    {
      "metadata": {
        "id": "HfPIX5bmg4rw",
        "colab_type": "text"
      },
      "cell_type": "markdown",
      "source": [
        "# Load the Fushion MNIST dataste"
      ]
    },
    {
      "metadata": {
        "id": "3Det5HMBtsxX",
        "colab_type": "code",
        "colab": {}
      },
      "cell_type": "code",
      "source": [
        "fashion_mnist = keras.datasets.fashion_mnist\n",
        "\n",
        "(train_images, train_labels), (test_images, test_labels) = fashion_mnist.load_data()"
      ],
      "execution_count": 0,
      "outputs": []
    },
    {
      "metadata": {
        "id": "mXKuH0im60xT",
        "colab_type": "code",
        "colab": {}
      },
      "cell_type": "code",
      "source": [
        "class_names = ['T-shirt/top', 'Trouser', 'Pullover', 'Dress', 'Coat',\n",
        "               'Sandal', 'Shirt', 'Sneaker', 'Bag', 'Ankle boot']"
      ],
      "execution_count": 0,
      "outputs": []
    },
    {
      "metadata": {
        "id": "zJdb2fkiicR7",
        "colab_type": "text"
      },
      "cell_type": "markdown",
      "source": [
        "# Explore the data"
      ]
    },
    {
      "metadata": {
        "id": "I66OBe5464NJ",
        "colab_type": "code",
        "colab": {
          "base_uri": "https://localhost:8080/",
          "height": 34
        },
        "outputId": "d7a1edb6-8edd-45bd-f40d-bb7b9dc5aaa1"
      },
      "cell_type": "code",
      "source": [
        "train_images.shape"
      ],
      "execution_count": 4,
      "outputs": [
        {
          "output_type": "execute_result",
          "data": {
            "text/plain": [
              "(60000, 28, 28)"
            ]
          },
          "metadata": {
            "tags": []
          },
          "execution_count": 4
        }
      ]
    },
    {
      "metadata": {
        "id": "JJo2wGkh68xM",
        "colab_type": "code",
        "colab": {
          "base_uri": "https://localhost:8080/",
          "height": 34
        },
        "outputId": "ca2bfe88-cb5f-44dc-f213-bf97e90c274d"
      },
      "cell_type": "code",
      "source": [
        "len(train_labels)"
      ],
      "execution_count": 5,
      "outputs": [
        {
          "output_type": "execute_result",
          "data": {
            "text/plain": [
              "60000"
            ]
          },
          "metadata": {
            "tags": []
          },
          "execution_count": 5
        }
      ]
    },
    {
      "metadata": {
        "id": "BRsAI6fK6-5X",
        "colab_type": "code",
        "colab": {
          "base_uri": "https://localhost:8080/",
          "height": 34
        },
        "outputId": "d76f6aa6-7fdb-4d21-eac9-2183b0a20210"
      },
      "cell_type": "code",
      "source": [
        "train_labels"
      ],
      "execution_count": 6,
      "outputs": [
        {
          "output_type": "execute_result",
          "data": {
            "text/plain": [
              "array([9, 0, 0, ..., 3, 0, 5], dtype=uint8)"
            ]
          },
          "metadata": {
            "tags": []
          },
          "execution_count": 6
        }
      ]
    },
    {
      "metadata": {
        "id": "14dhpnbF7DLl",
        "colab_type": "code",
        "colab": {
          "base_uri": "https://localhost:8080/",
          "height": 34
        },
        "outputId": "5ca9da4d-2ad8-48bb-baad-dedd1530687b"
      },
      "cell_type": "code",
      "source": [
        "test_images.shape"
      ],
      "execution_count": 7,
      "outputs": [
        {
          "output_type": "execute_result",
          "data": {
            "text/plain": [
              "(10000, 28, 28)"
            ]
          },
          "metadata": {
            "tags": []
          },
          "execution_count": 7
        }
      ]
    },
    {
      "metadata": {
        "id": "NRiZ1rl57Fej",
        "colab_type": "code",
        "colab": {
          "base_uri": "https://localhost:8080/",
          "height": 34
        },
        "outputId": "86d84351-1a29-4f90-d3e3-cfac6a7cd9f8"
      },
      "cell_type": "code",
      "source": [
        "len(test_labels)"
      ],
      "execution_count": 8,
      "outputs": [
        {
          "output_type": "execute_result",
          "data": {
            "text/plain": [
              "10000"
            ]
          },
          "metadata": {
            "tags": []
          },
          "execution_count": 8
        }
      ]
    },
    {
      "metadata": {
        "id": "buhM4m5g7I3X",
        "colab_type": "code",
        "colab": {
          "base_uri": "https://localhost:8080/",
          "height": 347
        },
        "outputId": "09855066-aeff-4649-e57e-6a21e4b803f1"
      },
      "cell_type": "code",
      "source": [
        "plt.figure()\n",
        "plt.imshow(train_images[0])\n",
        "plt.colorbar()\n",
        "plt.gca().grid(False)"
      ],
      "execution_count": 9,
      "outputs": [
        {
          "output_type": "display_data",
          "data": {
            "image/png": "[encoded data removed]",
            "text/plain": [
              "<matplotlib.figure.Figure at 0x7fbf12b23898>"
            ]
          },
          "metadata": {
            "tags": []
          }
        }
      ]
    },
    {
      "metadata": {
        "id": "vmXUBno3iqRK",
        "colab_type": "text"
      },
      "cell_type": "markdown",
      "source": [
        "# Preprocess the data"
      ]
    },
    {
      "metadata": {
        "id": "5MKGPj9X7MPs",
        "colab_type": "code",
        "colab": {}
      },
      "cell_type": "code",
      "source": [
        "# Mapping inputs into [0,1]\n",
        "train_images = train_images / 255.0\n",
        "test_images = test_images / 255.0"
      ],
      "execution_count": 0,
      "outputs": []
    },
    {
      "metadata": {
        "id": "1wkQbiBE8Opu",
        "colab_type": "code",
        "colab": {
          "base_uri": "https://localhost:8080/",
          "height": 589
        },
        "outputId": "5cf37889-1860-447f-c68e-f19f35636584"
      },
      "cell_type": "code",
      "source": [
        "plt.figure( figsize = ( 10, 10 ) )\n",
        "for i in range( 25 ):\n",
        "    plt.subplot( 5, 5, i+1 )\n",
        "    plt.xticks( [] )\n",
        "    plt.yticks( [] )\n",
        "    plt.grid( 'off' )\n",
        "    plt.imshow( train_images[i], cmap=plt.cm.binary )\n",
        "    plt.xlabel( class_names[ train_labels[ i ] ] )"
      ],
      "execution_count": 11,
      "outputs": [
        {
          "output_type": "display_data",
          "data": {
            "image/png": "[encoded data removed]",
            "text/plain": [
              "<matplotlib.figure.Figure at 0x7fbf12b23278>"
            ]
          },
          "metadata": {
            "tags": []
          }
        }
      ]
    },
    {
      "metadata": {
        "id": "YZLFHpYui0YO",
        "colab_type": "text"
      },
      "cell_type": "markdown",
      "source": [
        "#Build the model"
      ]
    },
    {
      "metadata": {
        "id": "wdwN08RTlsPV",
        "colab_type": "text"
      },
      "cell_type": "markdown",
      "source": [
        "## Reshpe data"
      ]
    },
    {
      "metadata": {
        "id": "104lLjIxEbaz",
        "colab_type": "code",
        "colab": {}
      },
      "cell_type": "code",
      "source": [
        "''' \n",
        "Reshape the data into 4 dimention, 4D tensor with shape: (batch, channels, rows, cols) if data_format is \"channels_first\" \n",
        "or 4D tensor with shape: (batch, rows, cols, channels) if data_format is \"channels_last\".\n",
        "'''\n",
        "train_images = train_images.reshape(train_images.shape[0], 28, 28, 1)\n",
        "test_images = test_images.reshape(test_images.shape[0], 28, 28, 1)"
      ],
      "execution_count": 0,
      "outputs": []
    },
    {
      "metadata": {
        "id": "AQ0nTDOBExxf",
        "colab_type": "code",
        "colab": {
          "base_uri": "https://localhost:8080/",
          "height": 34
        },
        "outputId": "b88cb37c-4170-46ca-e019-2ebfcdcb1434"
      },
      "cell_type": "code",
      "source": [
        "# Show the dimentions\n",
        "train_images.shape, test_images.shape"
      ],
      "execution_count": 13,
      "outputs": [
        {
          "output_type": "execute_result",
          "data": {
            "text/plain": [
              "((60000, 28, 28, 1), (10000, 28, 28, 1))"
            ]
          },
          "metadata": {
            "tags": []
          },
          "execution_count": 13
        }
      ]
    },
    {
      "metadata": {
        "id": "ZIl0zm8-lya7",
        "colab_type": "text"
      },
      "cell_type": "markdown",
      "source": [
        "## Model definition\n"
      ]
    },
    {
      "metadata": {
        "id": "IxSpafAU8Rmo",
        "colab_type": "code",
        "colab": {}
      },
      "cell_type": "code",
      "source": [
        "model = keras.Sequential([\n",
        "    keras.layers.Conv2D( filters=16, kernel_size=(3, 1),\n",
        "                 activation='relu',\n",
        "                 input_shape = (28, 28, 1) ),\n",
        "    keras.layers.Conv2D( filters=16, kernel_size=(1, 3),\n",
        "                 activation='relu'),\n",
        "    #keras.layers.Conv2D( filters=16, kernel_size=(3, 3),\n",
        "    #             activation='relu'),\n",
        "    keras.layers.MaxPooling2D(pool_size=(2, 2)),\n",
        "    keras.layers.BatchNormalization(),\n",
        "    keras.layers.Conv2D( filters=32, kernel_size=(3, 1),\n",
        "                 activation='relu'),\n",
        "    keras.layers.Conv2D( filters=32, kernel_size=(1, 3),\n",
        "                 activation='relu'),\n",
        "    #keras.layers.Conv2D( filters=32, kernel_size=(3, 3),\n",
        "    #             activation='relu'),\n",
        "    keras.layers.MaxPooling2D(pool_size=(2, 2)),\n",
        "    keras.layers.BatchNormalization(),\n",
        "    keras.layers.Flatten(),\n",
        "    keras.layers.Dense(64, activation=tf.nn.tanh),\n",
        "    keras.layers.Dropout(0.5),\n",
        "    keras.layers.Dense(10, activation=tf.nn.softmax)\n",
        "])"
      ],
      "execution_count": 0,
      "outputs": []
    },
    {
      "metadata": {
        "id": "dckdoOgxoN4E",
        "colab_type": "text"
      },
      "cell_type": "markdown",
      "source": [
        "## Optimization"
      ]
    },
    {
      "metadata": {
        "id": "-ycKyTaM8bHF",
        "colab_type": "code",
        "colab": {}
      },
      "cell_type": "code",
      "source": [
        "model.compile( optimizer=tf.train.AdamOptimizer(), \n",
        "               loss='sparse_categorical_crossentropy',\n",
        "               metrics=['accuracy'] )"
      ],
      "execution_count": 0,
      "outputs": []
    },
    {
      "metadata": {
        "id": "GgQfLe6BoRlt",
        "colab_type": "text"
      },
      "cell_type": "markdown",
      "source": [
        "## Training"
      ]
    },
    {
      "metadata": {
        "id": "gmdQVYPU8dv0",
        "colab_type": "code",
        "colab": {
          "base_uri": "https://localhost:8080/",
          "height": 3410
        },
        "outputId": "092eb480-b68c-444b-82b0-70b8e167dcab"
      },
      "cell_type": "code",
      "source": [
        "model.fit( train_images, train_labels, epochs=100, validation_data=(test_images, test_labels) )"
      ],
      "execution_count": 16,
      "outputs": [
        {
          "output_type": "stream",
          "text": [
            "Train on 60000 samples, validate on 10000 samples\n",
            "Epoch 1/100\n",
            "60000/60000 [==============================] - 17s 290us/step - loss: 0.5053 - acc: 0.8205 - val_loss: 0.3375 - val_acc: 0.8786\n",
            "Epoch 2/100\n",
            "60000/60000 [==============================] - 16s 261us/step - loss: 0.3593 - acc: 0.8732 - val_loss: 0.3577 - val_acc: 0.8670\n",
            "Epoch 3/100\n",
            "60000/60000 [==============================] - 16s 262us/step - loss: 0.3228 - acc: 0.8876 - val_loss: 0.3407 - val_acc: 0.8759\n",
            "Epoch 4/100\n",
            "60000/60000 [==============================] - 16s 260us/step - loss: 0.2988 - acc: 0.8938 - val_loss: 0.2873 - val_acc: 0.8991\n",
            "Epoch 5/100\n",
            "60000/60000 [==============================] - 16s 260us/step - loss: 0.2865 - acc: 0.8987 - val_loss: 0.2849 - val_acc: 0.8954\n",
            "Epoch 6/100\n",
            "60000/60000 [==============================] - 16s 260us/step - loss: 0.2705 - acc: 0.9044 - val_loss: 0.2896 - val_acc: 0.8947\n",
            "Epoch 7/100\n",
            "60000/60000 [==============================] - 16s 261us/step - loss: 0.2625 - acc: 0.9069 - val_loss: 0.2680 - val_acc: 0.9037\n",
            "Epoch 8/100\n",
            "60000/60000 [==============================] - 16s 260us/step - loss: 0.2561 - acc: 0.9105 - val_loss: 0.2793 - val_acc: 0.8998\n",
            "Epoch 9/100\n",
            "60000/60000 [==============================] - 16s 261us/step - loss: 0.2469 - acc: 0.9131 - val_loss: 0.2669 - val_acc: 0.9053\n",
            "Epoch 10/100\n",
            "60000/60000 [==============================] - 16s 261us/step - loss: 0.2402 - acc: 0.9170 - val_loss: 0.2856 - val_acc: 0.8985\n",
            "Epoch 11/100\n",
            "60000/60000 [==============================] - 16s 263us/step - loss: 0.2345 - acc: 0.9172 - val_loss: 0.2738 - val_acc: 0.9022\n",
            "Epoch 12/100\n",
            "60000/60000 [==============================] - 16s 264us/step - loss: 0.2277 - acc: 0.9193 - val_loss: 0.2577 - val_acc: 0.9068\n",
            "Epoch 13/100\n",
            "60000/60000 [==============================] - 16s 260us/step - loss: 0.2202 - acc: 0.9233 - val_loss: 0.2677 - val_acc: 0.9034\n",
            "Epoch 14/100\n",
            "60000/60000 [==============================] - 16s 261us/step - loss: 0.2197 - acc: 0.9235 - val_loss: 0.2614 - val_acc: 0.9078\n",
            "Epoch 15/100\n",
            "60000/60000 [==============================] - 16s 260us/step - loss: 0.2092 - acc: 0.9258 - val_loss: 0.3143 - val_acc: 0.8898\n",
            "Epoch 16/100\n",
            "60000/60000 [==============================] - 16s 263us/step - loss: 0.2093 - acc: 0.9261 - val_loss: 0.2562 - val_acc: 0.9082\n",
            "Epoch 17/100\n",
            "60000/60000 [==============================] - 16s 260us/step - loss: 0.2068 - acc: 0.9268 - val_loss: 0.2669 - val_acc: 0.9061\n",
            "Epoch 18/100\n",
            "60000/60000 [==============================] - 16s 261us/step - loss: 0.2059 - acc: 0.9280 - val_loss: 0.2606 - val_acc: 0.9105\n",
            "Epoch 19/100\n",
            "60000/60000 [==============================] - 16s 261us/step - loss: 0.1996 - acc: 0.9300 - val_loss: 0.2711 - val_acc: 0.9043\n",
            "Epoch 20/100\n",
            "60000/60000 [==============================] - 16s 263us/step - loss: 0.1952 - acc: 0.9315 - val_loss: 0.2581 - val_acc: 0.9084\n",
            "Epoch 21/100\n",
            "60000/60000 [==============================] - 16s 261us/step - loss: 0.1919 - acc: 0.9325 - val_loss: 0.3435 - val_acc: 0.8853\n",
            "Epoch 22/100\n",
            "60000/60000 [==============================] - 16s 262us/step - loss: 0.1895 - acc: 0.9331 - val_loss: 0.2865 - val_acc: 0.8999\n",
            "Epoch 23/100\n",
            "60000/60000 [==============================] - 16s 262us/step - loss: 0.1846 - acc: 0.9352 - val_loss: 0.2817 - val_acc: 0.9033\n",
            "Epoch 24/100\n",
            "60000/60000 [==============================] - 16s 261us/step - loss: 0.1832 - acc: 0.9359 - val_loss: 0.2564 - val_acc: 0.9099\n",
            "Epoch 25/100\n",
            "60000/60000 [==============================] - 16s 263us/step - loss: 0.1796 - acc: 0.9359 - val_loss: 0.2634 - val_acc: 0.9084\n",
            "Epoch 26/100\n",
            "60000/60000 [==============================] - 16s 261us/step - loss: 0.1770 - acc: 0.9368 - val_loss: 0.2883 - val_acc: 0.9045\n",
            "Epoch 27/100\n",
            "60000/60000 [==============================] - 16s 263us/step - loss: 0.1757 - acc: 0.9367 - val_loss: 0.2738 - val_acc: 0.9069\n",
            "Epoch 28/100\n",
            "60000/60000 [==============================] - 16s 262us/step - loss: 0.1736 - acc: 0.9383 - val_loss: 0.2759 - val_acc: 0.9052\n",
            "Epoch 29/100\n",
            "60000/60000 [==============================] - 16s 262us/step - loss: 0.1697 - acc: 0.9395 - val_loss: 0.2828 - val_acc: 0.9057\n",
            "Epoch 30/100\n",
            "60000/60000 [==============================] - 16s 260us/step - loss: 0.1668 - acc: 0.9409 - val_loss: 0.2835 - val_acc: 0.9057\n",
            "Epoch 31/100\n",
            "60000/60000 [==============================] - 16s 260us/step - loss: 0.1661 - acc: 0.9422 - val_loss: 0.2707 - val_acc: 0.9091\n",
            "Epoch 32/100\n",
            "60000/60000 [==============================] - 16s 260us/step - loss: 0.1655 - acc: 0.9410 - val_loss: 0.2740 - val_acc: 0.9089\n",
            "Epoch 33/100\n",
            "60000/60000 [==============================] - 16s 262us/step - loss: 0.1636 - acc: 0.9417 - val_loss: 0.2603 - val_acc: 0.9123\n",
            "Epoch 34/100\n",
            "60000/60000 [==============================] - 16s 261us/step - loss: 0.1617 - acc: 0.9424 - val_loss: 0.2792 - val_acc: 0.9109\n",
            "Epoch 35/100\n",
            "60000/60000 [==============================] - 16s 259us/step - loss: 0.1564 - acc: 0.9441 - val_loss: 0.2619 - val_acc: 0.9108\n",
            "Epoch 36/100\n",
            "60000/60000 [==============================] - 16s 260us/step - loss: 0.1546 - acc: 0.9450 - val_loss: 0.2676 - val_acc: 0.9108\n",
            "Epoch 37/100\n",
            "60000/60000 [==============================] - 16s 260us/step - loss: 0.1581 - acc: 0.9435 - val_loss: 0.2758 - val_acc: 0.9076\n",
            "Epoch 38/100\n",
            "60000/60000 [==============================] - 16s 261us/step - loss: 0.1506 - acc: 0.9466 - val_loss: 0.2680 - val_acc: 0.9118\n",
            "Epoch 39/100\n",
            "60000/60000 [==============================] - 16s 260us/step - loss: 0.1519 - acc: 0.9464 - val_loss: 0.2701 - val_acc: 0.9130\n",
            "Epoch 40/100\n",
            "60000/60000 [==============================] - 16s 260us/step - loss: 0.1528 - acc: 0.9458 - val_loss: 0.2812 - val_acc: 0.9092\n",
            "Epoch 41/100\n",
            "60000/60000 [==============================] - 16s 260us/step - loss: 0.1476 - acc: 0.9476 - val_loss: 0.2780 - val_acc: 0.9108\n",
            "Epoch 42/100\n",
            "60000/60000 [==============================] - 16s 263us/step - loss: 0.1485 - acc: 0.9456 - val_loss: 0.2845 - val_acc: 0.9118\n",
            "Epoch 43/100\n",
            "60000/60000 [==============================] - 16s 260us/step - loss: 0.1457 - acc: 0.9491 - val_loss: 0.2759 - val_acc: 0.9122\n",
            "Epoch 44/100\n",
            "60000/60000 [==============================] - 16s 260us/step - loss: 0.1434 - acc: 0.9479 - val_loss: 0.2879 - val_acc: 0.9073\n",
            "Epoch 45/100\n",
            "60000/60000 [==============================] - 16s 261us/step - loss: 0.1440 - acc: 0.9489 - val_loss: 0.2814 - val_acc: 0.9089\n",
            "Epoch 46/100\n",
            "60000/60000 [==============================] - 16s 261us/step - loss: 0.1417 - acc: 0.9491 - val_loss: 0.2806 - val_acc: 0.9110\n",
            "Epoch 47/100\n",
            "60000/60000 [==============================] - 16s 260us/step - loss: 0.1388 - acc: 0.9503 - val_loss: 0.2787 - val_acc: 0.9109\n",
            "Epoch 48/100\n",
            "60000/60000 [==============================] - 16s 260us/step - loss: 0.1391 - acc: 0.9495 - val_loss: 0.2852 - val_acc: 0.9116\n",
            "Epoch 49/100\n",
            "60000/60000 [==============================] - 16s 260us/step - loss: 0.1366 - acc: 0.9521 - val_loss: 0.2818 - val_acc: 0.9119\n",
            "Epoch 50/100\n",
            "60000/60000 [==============================] - 16s 261us/step - loss: 0.1393 - acc: 0.9500 - val_loss: 0.2823 - val_acc: 0.9121\n",
            "Epoch 51/100\n",
            "60000/60000 [==============================] - 16s 262us/step - loss: 0.1388 - acc: 0.9501 - val_loss: 0.2803 - val_acc: 0.9117\n",
            "Epoch 52/100\n",
            "60000/60000 [==============================] - 16s 259us/step - loss: 0.1321 - acc: 0.9535 - val_loss: 0.3311 - val_acc: 0.8998\n",
            "Epoch 53/100\n",
            "60000/60000 [==============================] - 16s 260us/step - loss: 0.1339 - acc: 0.9527 - val_loss: 0.2857 - val_acc: 0.9099\n",
            "Epoch 54/100\n",
            "60000/60000 [==============================] - 16s 261us/step - loss: 0.1347 - acc: 0.9522 - val_loss: 0.2824 - val_acc: 0.9083\n",
            "Epoch 55/100\n",
            "60000/60000 [==============================] - 16s 262us/step - loss: 0.1326 - acc: 0.9522 - val_loss: 0.3003 - val_acc: 0.9083\n",
            "Epoch 56/100\n",
            "60000/60000 [==============================] - 16s 260us/step - loss: 0.1318 - acc: 0.9522 - val_loss: 0.2878 - val_acc: 0.9106\n",
            "Epoch 57/100\n",
            "60000/60000 [==============================] - 16s 260us/step - loss: 0.1317 - acc: 0.9530 - val_loss: 0.3083 - val_acc: 0.9053\n",
            "Epoch 58/100\n",
            "60000/60000 [==============================] - 16s 260us/step - loss: 0.1313 - acc: 0.9537 - val_loss: 0.2868 - val_acc: 0.9126\n",
            "Epoch 59/100\n",
            "60000/60000 [==============================] - 16s 261us/step - loss: 0.1277 - acc: 0.9546 - val_loss: 0.2803 - val_acc: 0.9110\n",
            "Epoch 60/100\n",
            "60000/60000 [==============================] - 16s 259us/step - loss: 0.1284 - acc: 0.9553 - val_loss: 0.2879 - val_acc: 0.9098\n",
            "Epoch 61/100\n",
            "60000/60000 [==============================] - 16s 260us/step - loss: 0.1282 - acc: 0.9538 - val_loss: 0.2843 - val_acc: 0.9143\n",
            "Epoch 62/100\n",
            "60000/60000 [==============================] - 16s 260us/step - loss: 0.1256 - acc: 0.9558 - val_loss: 0.3103 - val_acc: 0.9048\n",
            "Epoch 63/100\n",
            "60000/60000 [==============================] - 16s 261us/step - loss: 0.1260 - acc: 0.9547 - val_loss: 0.2961 - val_acc: 0.9123\n",
            "Epoch 64/100\n",
            "60000/60000 [==============================] - 16s 261us/step - loss: 0.1238 - acc: 0.9555 - val_loss: 0.3191 - val_acc: 0.9034\n",
            "Epoch 65/100\n",
            "60000/60000 [==============================] - 16s 261us/step - loss: 0.1222 - acc: 0.9567 - val_loss: 0.2962 - val_acc: 0.9129\n",
            "Epoch 66/100\n",
            "60000/60000 [==============================] - 16s 260us/step - loss: 0.1236 - acc: 0.9563 - val_loss: 0.2894 - val_acc: 0.9141\n",
            "Epoch 67/100\n",
            "60000/60000 [==============================] - 16s 261us/step - loss: 0.1230 - acc: 0.9559 - val_loss: 0.3017 - val_acc: 0.9100\n",
            "Epoch 68/100\n",
            "60000/60000 [==============================] - 16s 262us/step - loss: 0.1205 - acc: 0.9573 - val_loss: 0.3030 - val_acc: 0.9104\n",
            "Epoch 69/100\n",
            "60000/60000 [==============================] - 16s 259us/step - loss: 0.1221 - acc: 0.9565 - val_loss: 0.2901 - val_acc: 0.9158\n",
            "Epoch 70/100\n",
            "60000/60000 [==============================] - 16s 260us/step - loss: 0.1210 - acc: 0.9577 - val_loss: 0.3058 - val_acc: 0.9097\n",
            "Epoch 71/100\n",
            "60000/60000 [==============================] - 16s 260us/step - loss: 0.1220 - acc: 0.9570 - val_loss: 0.2924 - val_acc: 0.9136\n",
            "Epoch 72/100\n",
            "60000/60000 [==============================] - 16s 263us/step - loss: 0.1181 - acc: 0.9578 - val_loss: 0.2997 - val_acc: 0.9111\n",
            "Epoch 73/100\n",
            "60000/60000 [==============================] - 16s 259us/step - loss: 0.1178 - acc: 0.9581 - val_loss: 0.2966 - val_acc: 0.9101\n",
            "Epoch 74/100\n",
            "60000/60000 [==============================] - 16s 260us/step - loss: 0.1157 - acc: 0.9589 - val_loss: 0.2943 - val_acc: 0.9117\n",
            "Epoch 75/100\n",
            "60000/60000 [==============================] - 16s 260us/step - loss: 0.1166 - acc: 0.9585 - val_loss: 0.2958 - val_acc: 0.9126\n",
            "Epoch 76/100\n",
            "60000/60000 [==============================] - 16s 262us/step - loss: 0.1174 - acc: 0.9579 - val_loss: 0.2973 - val_acc: 0.9097\n",
            "Epoch 77/100\n",
            "60000/60000 [==============================] - 16s 260us/step - loss: 0.1135 - acc: 0.9601 - val_loss: 0.3009 - val_acc: 0.9118\n",
            "Epoch 78/100\n",
            "60000/60000 [==============================] - 16s 260us/step - loss: 0.1158 - acc: 0.9583 - val_loss: 0.3015 - val_acc: 0.9097\n",
            "Epoch 79/100\n",
            "60000/60000 [==============================] - 16s 261us/step - loss: 0.1136 - acc: 0.9597 - val_loss: 0.2981 - val_acc: 0.9125\n",
            "Epoch 80/100\n",
            "60000/60000 [==============================] - 16s 262us/step - loss: 0.1143 - acc: 0.9595 - val_loss: 0.3028 - val_acc: 0.9079\n",
            "Epoch 81/100\n",
            "60000/60000 [==============================] - 16s 260us/step - loss: 0.1131 - acc: 0.9598 - val_loss: 0.3080 - val_acc: 0.9089\n",
            "Epoch 82/100\n",
            "60000/60000 [==============================] - 16s 261us/step - loss: 0.1104 - acc: 0.9598 - val_loss: 0.3130 - val_acc: 0.9115\n",
            "Epoch 83/100\n",
            "60000/60000 [==============================] - 16s 260us/step - loss: 0.1161 - acc: 0.9584 - val_loss: 0.3086 - val_acc: 0.9091\n",
            "Epoch 84/100\n",
            "60000/60000 [==============================] - 16s 260us/step - loss: 0.1125 - acc: 0.9606 - val_loss: 0.3078 - val_acc: 0.9087\n",
            "Epoch 85/100\n",
            "60000/60000 [==============================] - 16s 261us/step - loss: 0.1108 - acc: 0.9603 - val_loss: 0.3092 - val_acc: 0.9110\n",
            "Epoch 86/100\n",
            "60000/60000 [==============================] - 16s 260us/step - loss: 0.1140 - acc: 0.9593 - val_loss: 0.3155 - val_acc: 0.9057\n",
            "Epoch 87/100\n",
            "60000/60000 [==============================] - 16s 260us/step - loss: 0.1123 - acc: 0.9603 - val_loss: 0.3224 - val_acc: 0.9081\n",
            "Epoch 88/100\n",
            "60000/60000 [==============================] - 16s 261us/step - loss: 0.1091 - acc: 0.9604 - val_loss: 0.3356 - val_acc: 0.9069\n",
            "Epoch 89/100\n",
            "60000/60000 [==============================] - 16s 262us/step - loss: 0.1122 - acc: 0.9602 - val_loss: 0.3067 - val_acc: 0.9096\n",
            "Epoch 90/100\n",
            "60000/60000 [==============================] - 16s 260us/step - loss: 0.1099 - acc: 0.9601 - val_loss: 0.3211 - val_acc: 0.9080\n",
            "Epoch 91/100\n",
            "60000/60000 [==============================] - 16s 261us/step - loss: 0.1076 - acc: 0.9609 - val_loss: 0.3113 - val_acc: 0.9100\n",
            "Epoch 92/100\n",
            "60000/60000 [==============================] - 16s 260us/step - loss: 0.1094 - acc: 0.9605 - val_loss: 0.3119 - val_acc: 0.9089\n",
            "Epoch 93/100\n",
            "60000/60000 [==============================] - 16s 262us/step - loss: 0.1088 - acc: 0.9610 - val_loss: 0.3063 - val_acc: 0.9107\n",
            "Epoch 94/100\n",
            "60000/60000 [==============================] - 16s 261us/step - loss: 0.1083 - acc: 0.9609 - val_loss: 0.3071 - val_acc: 0.9114\n",
            "Epoch 95/100\n",
            "60000/60000 [==============================] - 16s 260us/step - loss: 0.1067 - acc: 0.9622 - val_loss: 0.3106 - val_acc: 0.9122\n",
            "Epoch 96/100\n",
            "60000/60000 [==============================] - 16s 260us/step - loss: 0.1072 - acc: 0.9623 - val_loss: 0.3101 - val_acc: 0.9096\n",
            "Epoch 97/100\n",
            "60000/60000 [==============================] - 16s 261us/step - loss: 0.1039 - acc: 0.9625 - val_loss: 0.3154 - val_acc: 0.9093\n",
            "Epoch 98/100\n",
            "60000/60000 [==============================] - 16s 261us/step - loss: 0.1090 - acc: 0.9622 - val_loss: 0.3065 - val_acc: 0.9111\n",
            "Epoch 99/100\n",
            "60000/60000 [==============================] - 16s 261us/step - loss: 0.1052 - acc: 0.9627 - val_loss: 0.3149 - val_acc: 0.9090\n",
            "Epoch 100/100\n",
            "60000/60000 [==============================] - 16s 261us/step - loss: 0.1069 - acc: 0.9619 - val_loss: 0.3160 - val_acc: 0.9095\n"
          ],
          "name": "stdout"
        },
        {
          "output_type": "execute_result",
          "data": {
            "text/plain": [
              "<tensorflow.python.keras.callbacks.History at 0x7fbf5911b748>"
            ]
          },
          "metadata": {
            "tags": []
          },
          "execution_count": 16
        }
      ]
    },
    {
      "metadata": {
        "id": "jb4jtzkAoUfj",
        "colab_type": "text"
      },
      "cell_type": "markdown",
      "source": [
        "## Evaluation accuray of test data"
      ]
    },
    {
      "metadata": {
        "id": "4Z-omoaP8gGz",
        "colab_type": "code",
        "colab": {
          "base_uri": "https://localhost:8080/",
          "height": 50
        },
        "outputId": "e038dba6-ed1d-4870-f394-220e7a7dfa48"
      },
      "cell_type": "code",
      "source": [
        "test_loss, test_acc = model.evaluate( test_images, test_labels )\n",
        "\n",
        "print('Test accuracy:', test_acc)"
      ],
      "execution_count": 17,
      "outputs": [
        {
          "output_type": "stream",
          "text": [
            "10000/10000 [==============================] - 1s 76us/step\n",
            "Test accuracy: 0.9095\n"
          ],
          "name": "stdout"
        }
      ]
    },
    {
      "metadata": {
        "id": "ddg3HdqzodGL",
        "colab_type": "text"
      },
      "cell_type": "markdown",
      "source": [
        "##Make predictions"
      ]
    },
    {
      "metadata": {
        "id": "MBbR1vIv8v6X",
        "colab_type": "code",
        "colab": {}
      },
      "cell_type": "code",
      "source": [
        "predictions = model.predict( test_images )"
      ],
      "execution_count": 0,
      "outputs": []
    },
    {
      "metadata": {
        "id": "LCMXUakN80TJ",
        "colab_type": "code",
        "colab": {
          "base_uri": "https://localhost:8080/",
          "height": 67
        },
        "outputId": "3176ac7a-3981-4510-d714-f384354ea03d"
      },
      "cell_type": "code",
      "source": [
        "predictions[0]"
      ],
      "execution_count": 19,
      "outputs": [
        {
          "output_type": "execute_result",
          "data": {
            "text/plain": [
              "array([5.1654798e-11, 3.0385989e-11, 1.2486964e-09, 1.1895609e-10,\n",
              "       1.2023079e-09, 7.6509259e-06, 1.0897405e-10, 1.0520069e-04,\n",
              "       2.7303248e-08, 9.9988711e-01], dtype=float32)"
            ]
          },
          "metadata": {
            "tags": []
          },
          "execution_count": 19
        }
      ]
    },
    {
      "metadata": {
        "id": "kZP4iVT88146",
        "colab_type": "code",
        "colab": {
          "base_uri": "https://localhost:8080/",
          "height": 34
        },
        "outputId": "a6b3f9d7-687c-486c-bafb-d310896ca57c"
      },
      "cell_type": "code",
      "source": [
        "np.argmax( predictions[ 0 ] )"
      ],
      "execution_count": 20,
      "outputs": [
        {
          "output_type": "execute_result",
          "data": {
            "text/plain": [
              "9"
            ]
          },
          "metadata": {
            "tags": []
          },
          "execution_count": 20
        }
      ]
    },
    {
      "metadata": {
        "id": "eF77hvhj84F9",
        "colab_type": "code",
        "colab": {
          "base_uri": "https://localhost:8080/",
          "height": 34
        },
        "outputId": "b13e3a4a-ed90-4350-cfc6-8f7b83b10398"
      },
      "cell_type": "code",
      "source": [
        "test_labels[0]"
      ],
      "execution_count": 21,
      "outputs": [
        {
          "output_type": "execute_result",
          "data": {
            "text/plain": [
              "9"
            ]
          },
          "metadata": {
            "tags": []
          },
          "execution_count": 21
        }
      ]
    },
    {
      "metadata": {
        "id": "mrO3dZLb855U",
        "colab_type": "code",
        "colab": {
          "base_uri": "https://localhost:8080/",
          "height": 589
        },
        "outputId": "104657d0-3577-401b-e9b6-39dee445e20d"
      },
      "cell_type": "code",
      "source": [
        "# Plot the first 25 test images, their predicted label, and the true label\n",
        "# Color correct predictions in green, incorrect predictions in red\n",
        "test_images = test_images.reshape(test_images.shape[0], 28, 28)\n",
        "plt.figure( figsize = (10, 10) )\n",
        "for i in range(25):\n",
        "    plt.subplot( 5, 5, i + 1 )\n",
        "    plt.xticks( [] )\n",
        "    plt.yticks( [] )\n",
        "    plt.grid( 'off' )\n",
        "    plt.imshow( test_images[i], cmap=plt.cm.binary )\n",
        "    predicted_label = np.argmax( predictions[i] )\n",
        "    true_label = test_labels[ i ]\n",
        "    if predicted_label == true_label:\n",
        "      color = 'green'\n",
        "    else:\n",
        "      color = 'red'\n",
        "    plt.xlabel(\"{} ({})\".format( class_names[predicted_label], \n",
        "                                 class_names[true_label]),\n",
        "              color=color)"
      ],
      "execution_count": 22,
      "outputs": [
        {
          "output_type": "display_data",
          "data": {
            "image/png": "[encoded data removed]",
            "text/plain": [
              "<matplotlib.figure.Figure at 0x7fbef5fab908>"
            ]
          },
          "metadata": {
            "tags": []
          }
        }
      ]
    },
    {
      "metadata": {
        "id": "B2flEomD88kn",
        "colab_type": "code",
        "colab": {
          "base_uri": "https://localhost:8080/",
          "height": 34
        },
        "outputId": "9973b7ce-c852-4b19-bd28-5f14811765f6"
      },
      "cell_type": "code",
      "source": [
        "# Grab an image from the test dataset\n",
        "img = test_images[0]\n",
        "\n",
        "print(img.shape)"
      ],
      "execution_count": 23,
      "outputs": [
        {
          "output_type": "stream",
          "text": [
            "(28, 28)\n"
          ],
          "name": "stdout"
        }
      ]
    },
    {
      "metadata": {
        "id": "q5Q0a2wm9BK_",
        "colab_type": "code",
        "colab": {
          "base_uri": "https://localhost:8080/",
          "height": 34
        },
        "outputId": "7f4c9491-8f09-4e03-ec15-d99ba1b7bf36"
      },
      "cell_type": "code",
      "source": [
        "# Add the image to a batch where it's the only member.\n",
        "img = (np.expand_dims(img,0))\n",
        "\n",
        "print(img.shape)"
      ],
      "execution_count": 24,
      "outputs": [
        {
          "output_type": "stream",
          "text": [
            "(1, 28, 28)\n"
          ],
          "name": "stdout"
        }
      ]
    },
    {
      "metadata": {
        "id": "3J5cFjlE9Ctc",
        "colab_type": "code",
        "colab": {
          "base_uri": "https://localhost:8080/",
          "height": 67
        },
        "outputId": "826c5a12-7e54-47d3-f719-81045f908d91"
      },
      "cell_type": "code",
      "source": [
        "img = img.reshape(img.shape[0], 28, 28, 1)\n",
        "predictions = model.predict(img)\n",
        "print(predictions)"
      ],
      "execution_count": 25,
      "outputs": [
        {
          "output_type": "stream",
          "text": [
            "[[5.16552946e-11 3.03862213e-11 1.24870581e-09 1.18956997e-10\n",
            "  1.20231936e-09 7.65098412e-06 1.08974892e-10 1.05201696e-04\n",
            "  2.73034058e-08 9.99887109e-01]]\n"
          ],
          "name": "stdout"
        }
      ]
    },
    {
      "metadata": {
        "id": "0PeoJZZS9EKt",
        "colab_type": "code",
        "colab": {
          "base_uri": "https://localhost:8080/",
          "height": 34
        },
        "outputId": "51a63b0b-e3fa-4c48-aa63-97e01e91f8c1"
      },
      "cell_type": "code",
      "source": [
        "prediction = predictions[0]\n",
        "\n",
        "np.argmax(prediction)"
      ],
      "execution_count": 26,
      "outputs": [
        {
          "output_type": "execute_result",
          "data": {
            "text/plain": [
              "9"
            ]
          },
          "metadata": {
            "tags": []
          },
          "execution_count": 26
        }
      ]
    }
  ]
}